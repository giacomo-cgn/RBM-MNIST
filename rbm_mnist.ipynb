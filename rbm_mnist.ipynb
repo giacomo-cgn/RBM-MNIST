{
  "cells": [
    {
      "cell_type": "markdown",
      "metadata": {
        "id": "view-in-github",
        "colab_type": "text"
      },
      "source": [
        "<a href=\"https://colab.research.google.com/github/giacomo-cgn/RBM-MNIST/blob/main/rbm_mnist.ipynb\" target=\"_parent\"><img src=\"https://colab.research.google.com/assets/colab-badge.svg\" alt=\"Open In Colab\"/></a>"
      ]
    },
    {
      "cell_type": "markdown",
      "source": [
        "\n",
        "\n",
        "\n",
        "# RBM for MNIST encoding"
      ],
      "metadata": {
        "id": "tXgz3Cahvyxd"
      }
    },
    {
      "cell_type": "markdown",
      "source": [
        "Giacomo Cignoni - 581112"
      ],
      "metadata": {
        "id": "_2K94mBcv59H"
      }
    },
    {
      "cell_type": "markdown",
      "source": [
        "1.     The RBM is trained with a single layer of hidden neurons on the MNIST data.\n",
        "\n",
        "2.     Use the trained RBM to encode all the MNIST images using the corresponding activation of the hidden neurons.\n",
        "\n",
        "3.     A simple classifier is trained to recognize the MNIST digits using as inputs their encoding obtained at step 2."
      ],
      "metadata": {
        "id": "DLW6QN8_v7jf"
      }
    },
    {
      "cell_type": "markdown",
      "source": [
        "# Preparations"
      ],
      "metadata": {
        "id": "f7hUAUkMwAlZ"
      }
    },
    {
      "cell_type": "markdown",
      "source": [
        "Base necessary imports"
      ],
      "metadata": {
        "id": "poLCKwE0wDSL"
      }
    },
    {
      "cell_type": "code",
      "execution_count": null,
      "metadata": {
        "id": "xNnOwxmof7q5"
      },
      "outputs": [],
      "source": [
        "import numpy as np\n",
        "import matplotlib.pyplot as plt\n",
        "import math\n",
        "import matplotlib.pyplot as plt"
      ]
    },
    {
      "cell_type": "markdown",
      "source": [
        "# Dataset"
      ],
      "metadata": {
        "id": "da_lsrbdwKWe"
      }
    },
    {
      "cell_type": "markdown",
      "source": [
        "\n",
        "\n",
        "The MNIST dataset (60000 tr images and 10000 test 28x28 images) is imported using Keras library for simplicity.\n",
        "\n"
      ],
      "metadata": {
        "id": "mi9y8VXxwOj9"
      }
    },
    {
      "cell_type": "code",
      "source": [
        "import tensorflow as tf\n",
        "from tensorflow import keras\n",
        "from keras.datasets import mnist"
      ],
      "metadata": {
        "id": "6TpwRLsrwP2M"
      },
      "execution_count": null,
      "outputs": []
    },
    {
      "cell_type": "markdown",
      "source": [
        "The MNIST dataset images are in grayscale (each pixel has value 0-255). The values in the corrsponding image array are scaled to the 0-1 range and then thresholded at 0.5, so to obtain a binary image for each pattern. Binary images allows to use the image pixels directly as values of the RBM visble units, hopefully without compromising the image due to the simple nature of the patterns.\n",
        "Finally, the each image pattern bidimensional array is flattened to a monodimensional array with length 784."
      ],
      "metadata": {
        "id": "bT667YoSwzXW"
      }
    },
    {
      "cell_type": "code",
      "execution_count": null,
      "metadata": {
        "colab": {
          "base_uri": "https://localhost:8080/"
        },
        "id": "vag6GoPviFvF",
        "outputId": "5fbf1b05-5713-4746-ad06-bf37bc53f1f7"
      },
      "outputs": [
        {
          "output_type": "stream",
          "name": "stdout",
          "text": [
            "Downloading data from https://storage.googleapis.com/tensorflow/tf-keras-datasets/mnist.npz\n",
            "11493376/11490434 [==============================] - 0s 0us/step\n",
            "11501568/11490434 [==============================] - 0s 0us/step\n",
            "Train shape: (60000, 784)\n",
            "Test shape: (10000, 784)\n"
          ]
        }
      ],
      "source": [
        "(x_train, y_train), (x_test, y_test) = mnist.load_data()\n",
        "x_train = np.around(x_train/255, decimals=0).astype('int')\n",
        "x_test = np.around(x_test/255, decimals=0).astype('int')\n",
        "\n",
        "\n",
        "x_train = x_train.reshape(x_train.shape[0], -1)\n",
        "x_test = x_test.reshape(x_test.shape[0], -1)\n",
        "\n",
        "print('Train shape:',np.shape(x_train))\n",
        "print('Test shape:',np.shape(x_test))"
      ]
    },
    {
      "cell_type": "markdown",
      "source": [
        "The utility function defining the sigmoid (applicable to numpy array) is defined"
      ],
      "metadata": {
        "id": "D1pvMszYzRdY"
      }
    },
    {
      "cell_type": "code",
      "source": [
        "def sigmoid(x):\n",
        "  return 1./(1 + np.exp(-x))"
      ],
      "metadata": {
        "id": "-KXqvf9FrIMJ"
      },
      "execution_count": null,
      "outputs": []
    },
    {
      "cell_type": "markdown",
      "source": [
        "This utility function return the probability of each binary feature of a dataset be active (to be == 1) in said dataset."
      ],
      "metadata": {
        "id": "j9m1GSKpzdYG"
      }
    },
    {
      "cell_type": "code",
      "source": [
        "def extract_activation_prob(tr_input):\n",
        "  occurrencies = np.sum(tr_input, axis=0, dtype=np.single) #calculates occurrencies in tr_set for each visible unit\n",
        "  res = occurrencies / tr_input.shape[0] #return probability of activation of each visible unit in the tr set\n",
        "  return res"
      ],
      "metadata": {
        "id": "Ki2wlzZfzc6L"
      },
      "execution_count": null,
      "outputs": []
    },
    {
      "cell_type": "markdown",
      "source": [
        "# RBM"
      ],
      "metadata": {
        "id": "_u9Dw9wg2fPf"
      }
    },
    {
      "cell_type": "markdown",
      "source": [
        "A RBM class was declared with train method, to train weight and biases, and a predict method, to get the hidden unit activation from sampled input data.\n",
        "For building the model the guide http://www.cs.toronto.edu/~hinton/absps/guideTR.pdf was followed (will refer to it as [1]); also the MATLAB code in http://www.cs.toronto.edu/~hinton/code/rbm.m was used as guideline.\n",
        "\n",
        "The approach used for training weights and bias is CD-1, as seen at lesson."
      ],
      "metadata": {
        "id": "ka1uQfEj2hub"
      }
    },
    {
      "cell_type": "markdown",
      "source": [
        "Here is presented a list of the implemented features of the RBM with a brief explanation of implementation choices.\n",
        "\n",
        "\n",
        "*   **Weights initialization:** as suggested in [1], initialweights were drawn from a gaussian with centre=0 and std=0.01\n",
        "*   **Visible bias initialization:** as suggested in [1], it is initialized with the function *log(p/(1-p))* with p being the previously defined *extract_activation_prob*, and then clipped in [-0.1, 0.1] range to avoid infinites\n",
        "*   **Hidden bias initialization:** initialized to 0 as suggested in [1]\n",
        "*   **Batch size:** as suggested in [1] it is of the same size of the number of classes (if small), in our case 10\n",
        "*   **Reconstructed data:** in the data reconstruction step in CD-1, sampling the reconstructed data probabilities is not necessary, the option to abilitate sampling for this step was implemented\n",
        "\n",
        "\n"
      ],
      "metadata": {
        "id": "x1jMzuSQ6yHc"
      }
    },
    {
      "cell_type": "code",
      "source": [
        "class RBM:\n",
        "  def __init__(self, lr, num_visible, num_hidden, batch_size=10, sample_rec_data=True):\n",
        "    self.lr = lr\n",
        "    self.num_visible = num_visible\n",
        "    self.num_hidden = num_hidden\n",
        "    self.batch_size = batch_size\n",
        "    self.sample_rec_data = sample_rec_data\n",
        "\n",
        "    self.weights = np.random.normal(loc=0, scale=0.01, size=(self.num_visible, self.num_hidden))\n",
        "    self.hid_bias = np.zeros((self.num_hidden))\n",
        "\n",
        "  def train(self, input, target, epochs=15):\n",
        "    p = extract_activation_prob(input)\n",
        "    self.vis_bias = np.log(p/(1-p))\n",
        "    self.vis_bias = np.clip(self.vis_bias, -0.1, 0.1)\n",
        "\n",
        "    num_batches = math.ceil(input.shape[0]/self.batch_size)\n",
        "    batches_list = [input[self.batch_size*y : self.batch_size*(y+1), :] for y in range(num_batches)]\n",
        "\n",
        "    for e in range(epochs):\n",
        "      sum_err = 0\n",
        "      for b in batches_list:\n",
        "        data = b  # data shape = [batch_size, num_vis]\n",
        "\n",
        "        # Wake part, positive\n",
        "\n",
        "        pos_hid_probs = sigmoid(np.matmul(data, self.weights) + self.hid_bias)  # Hidden activation probability\n",
        "        # pos_hid_probs shape = [batch_size, num_hid]\n",
        "\n",
        "        wake = np.matmul(data.T, pos_hid_probs)\n",
        "        # wake shape = [num_vis, num_hid]\n",
        "\n",
        "        pos_hid_states = pos_hid_probs > np.random.rand(self.batch_size, self.num_hidden) # Stochastic hidden activation\n",
        "\n",
        "        # Dream part, negative\n",
        "\n",
        "        recon_data_probs = sigmoid(np.matmul(pos_hid_states, self.weights.T + self.vis_bias))  # Data reconstruction probability\n",
        "        # recon_data_probs shape = [batch_size, num_vis]\n",
        "\n",
        "        if self.sample_rec_data:\n",
        "          recon_data = recon_data_probs > np.random.rand(self.batch_size, self.num_visible)   # Stochastic reconstructed data\n",
        "        else:\n",
        "          recon_data = recon_data_probs # Do not sample reconstructed data\n",
        "\n",
        "        neg_hid_probs = sigmoid(np.matmul(recon_data, self.weights) + self.hid_bias)\n",
        "        # neg_hid_probs shape = [batch_size, num_hid]\n",
        "\n",
        "        dream = np.matmul(recon_data.T, neg_hid_probs) \n",
        "        # dream shape = [num_vis, num_hid]\n",
        "\n",
        "        # Weights and biases deltas\n",
        "        delta_weights = (wake - dream ) / self.batch_size \n",
        "        delta_bias_hid = (np.sum(pos_hid_probs, axis=0) - np.sum(neg_hid_probs, axis=0)) / self.batch_size\n",
        "        delta_bias_vis = (np.sum(data, axis=0) - np.sum(recon_data, axis=0)) / self.batch_size\n",
        "\n",
        "        # Updates\n",
        "        self.weights += self.lr*delta_weights\n",
        "        self.hid_bias += self.lr*delta_bias_hid\n",
        "        self.vis_bias += self.lr*delta_bias_vis\n",
        "\n",
        "        # Error\n",
        "        err = np.sum(data - recon_data) ** 2\n",
        "        #print('Batch err:', err)\n",
        "        sum_err += err\n",
        "\n",
        "      print('Epoch', e, '- err:', sum_err)\n",
        "\n",
        "\n",
        "  def predict(self, input):\n",
        "    # hid_probs shape = [num_patterns, num_hid]\n",
        "\n",
        "    hid_probs = sigmoid(np.matmul(input, self.weights) + self.hid_bias)  # Hidden activation probability\n",
        "    return hid_probs\n",
        "\n",
        "      "
      ],
      "metadata": {
        "id": "3LjDkaMpxTAI"
      },
      "execution_count": null,
      "outputs": []
    },
    {
      "cell_type": "markdown",
      "source": [
        "After a few preliminary trials, a relatively low learning rate of 0.001 was chosen (as regularization was not implemented in the model) and also a number of 100 hidden states to execute training"
      ],
      "metadata": {
        "id": "Y2H-lowUAi5l"
      }
    },
    {
      "cell_type": "code",
      "source": [
        "learning_rate = 0.001\n",
        "hid_units_num = 100"
      ],
      "metadata": {
        "id": "SCOxI7d6jvSJ"
      },
      "execution_count": null,
      "outputs": []
    },
    {
      "cell_type": "markdown",
      "source": [
        "A first RBM `rbm1` was trained with sampling after data reconstruction"
      ],
      "metadata": {
        "id": "xsBlRMSlkW1-"
      }
    },
    {
      "cell_type": "code",
      "source": [
        "rbm1 = RBM(learning_rate, x_train.shape[1], hid_units_num, sample_rec_data=True)\n",
        "rbm1.train(x_train, y_train)\n",
        "\n",
        "hid_probs_train1 = rbm1.predict(x_train)"
      ],
      "metadata": {
        "colab": {
          "base_uri": "https://localhost:8080/"
        },
        "id": "1S9mPPm249T_",
        "outputId": "d838ca14-9d7e-480e-ec99-84189d45da8b"
      },
      "execution_count": null,
      "outputs": [
        {
          "output_type": "stream",
          "name": "stderr",
          "text": [
            "/usr/local/lib/python3.7/dist-packages/ipykernel_launcher.py:14: RuntimeWarning: divide by zero encountered in log\n",
            "  \n"
          ]
        },
        {
          "output_type": "stream",
          "name": "stdout",
          "text": [
            "Epoch 0 - err: 282832561\n",
            "Epoch 1 - err: 381663397\n",
            "Epoch 2 - err: 220886356\n",
            "Epoch 3 - err: 176086700\n",
            "Epoch 4 - err: 182924855\n",
            "Epoch 5 - err: 199535280\n",
            "Epoch 6 - err: 221485440\n",
            "Epoch 7 - err: 233813287\n",
            "Epoch 8 - err: 233163426\n",
            "Epoch 9 - err: 228737488\n",
            "Epoch 10 - err: 225698615\n",
            "Epoch 11 - err: 220700971\n",
            "Epoch 12 - err: 219692895\n",
            "Epoch 13 - err: 217586590\n",
            "Epoch 14 - err: 215966733\n"
          ]
        }
      ]
    },
    {
      "cell_type": "markdown",
      "source": [
        "A second RBM `rbm2` was trained without sampling after data reconstruction"
      ],
      "metadata": {
        "id": "KKXOd-1ykkTy"
      }
    },
    {
      "cell_type": "code",
      "source": [
        "rbm2 = RBM(learning_rate, x_train.shape[1], hid_units_num, sample_rec_data=False)\n",
        "rbm2.train(x_train, y_train)\n",
        "\n",
        "hid_probs_train2 = rbm2.predict(x_train)"
      ],
      "metadata": {
        "colab": {
          "base_uri": "https://localhost:8080/"
        },
        "id": "wR_jljxDkndo",
        "outputId": "670cde6e-bff0-4e74-b08f-fe80a8a40c87"
      },
      "execution_count": null,
      "outputs": [
        {
          "output_type": "stream",
          "name": "stderr",
          "text": [
            "/usr/local/lib/python3.7/dist-packages/ipykernel_launcher.py:14: RuntimeWarning: divide by zero encountered in log\n",
            "  \n"
          ]
        },
        {
          "output_type": "stream",
          "name": "stdout",
          "text": [
            "Epoch 0 - err: 295033179.4089149\n",
            "Epoch 1 - err: 343006739.4575792\n",
            "Epoch 2 - err: 208163267.8998438\n",
            "Epoch 3 - err: 175326132.371156\n",
            "Epoch 4 - err: 164354325.0901653\n",
            "Epoch 5 - err: 163476793.66887632\n",
            "Epoch 6 - err: 161077313.29608476\n",
            "Epoch 7 - err: 162093191.5229246\n",
            "Epoch 8 - err: 160915901.96749467\n",
            "Epoch 9 - err: 162953672.49890006\n",
            "Epoch 10 - err: 164941788.5053842\n",
            "Epoch 11 - err: 167742746.8214331\n",
            "Epoch 12 - err: 173503362.16053918\n",
            "Epoch 13 - err: 179582826.4972485\n",
            "Epoch 14 - err: 184145057.03719443\n"
          ]
        }
      ]
    },
    {
      "cell_type": "markdown",
      "source": [
        "Let's now show the weights relative to 10 hidden units of the 100 total. This “receptive” fields are relavant because they show which regions of the image activate more the respective hidden unit."
      ],
      "metadata": {
        "id": "6C_flppnZjqw"
      }
    },
    {
      "cell_type": "code",
      "source": [
        "for i in range(int(hid_units_num/10)):\n",
        "  plt.imshow(rbm1.weights[:,i*10].reshape(28,28))\n",
        "  plt.show()"
      ],
      "metadata": {
        "colab": {
          "base_uri": "https://localhost:8080/",
          "height": 1000
        },
        "id": "e-_Lpbi5U3sm",
        "outputId": "c49c56a7-b746-4cf2-d4ff-e8da8cb1f8c0"
      },
      "execution_count": null,
      "outputs": [
        {
          "output_type": "display_data",
          "data": {
            "text/plain": [
              "<Figure size 432x288 with 1 Axes>"
            ],
            "image/png": "[encoded data removed]"
          },
          "metadata": {
            "needs_background": "light"
          }
        },
        {
          "output_type": "display_data",
          "data": {
            "text/plain": [
              "<Figure size 432x288 with 1 Axes>"
            ],
            "image/png": "[encoded data removed]"
          },
          "metadata": {
            "needs_background": "light"
          }
        },
        {
          "output_type": "display_data",
          "data": {
            "text/plain": [
              "<Figure size 432x288 with 1 Axes>"
            ],
            "image/png": "[encoded data removed]"
          },
          "metadata": {
            "needs_background": "light"
          }
        },
        {
          "output_type": "display_data",
          "data": {
            "text/plain": [
              "<Figure size 432x288 with 1 Axes>"
            ],
            "image/png": "[encoded data removed]"
          },
          "metadata": {
            "needs_background": "light"
          }
        },
        {
          "output_type": "display_data",
          "data": {
            "text/plain": [
              "<Figure size 432x288 with 1 Axes>"
            ],
            "image/png": "[encoded data removed]"
          },
          "metadata": {
            "needs_background": "light"
          }
        },
        {
          "output_type": "display_data",
          "data": {
            "text/plain": [
              "<Figure size 432x288 with 1 Axes>"
            ],
            "image/png": "[encoded data removed]"
          },
          "metadata": {
            "needs_background": "light"
          }
        },
        {
          "output_type": "display_data",
          "data": {
            "text/plain": [
              "<Figure size 432x288 with 1 Axes>"
            ],
            "image/png": "[encoded data removed]"
          },
          "metadata": {
            "needs_background": "light"
          }
        },
        {
          "output_type": "display_data",
          "data": {
            "text/plain": [
              "<Figure size 432x288 with 1 Axes>"
            ],
            "image/png": "[encoded data removed]"
          },
          "metadata": {
            "needs_background": "light"
          }
        },
        {
          "output_type": "display_data",
          "data": {
            "text/plain": [
              "<Figure size 432x288 with 1 Axes>"
            ],
            "image/png": "[encoded data removed]"
          },
          "metadata": {
            "needs_background": "light"
          }
        },
        {
          "output_type": "display_data",
          "data": {
            "text/plain": [
              "<Figure size 432x288 with 1 Axes>"
            ],
            "image/png": "[encoded data removed]"
          },
          "metadata": {
            "needs_background": "light"
          }
        }
      ]
    },
    {
      "cell_type": "markdown",
      "source": [
        "# Simple classifier"
      ],
      "metadata": {
        "id": "zY7fGalc_Cj-"
      }
    },
    {
      "cell_type": "markdown",
      "source": [
        "The simple classifier chosen is an SVM, implemented through Sklearn. It has an RBF kernel, regularization C=2.0 and gamma set to 'scale' (1/(n_features*X.var())).\n",
        "\n",
        "2 SVMs are trained, 1 for `rbm1` and one for `rbm2`.\n",
        "\n",
        "Classification accuracy of the image numbers is the chosen performance and is calculated calculated for both explored models."
      ],
      "metadata": {
        "id": "doY7p9y---gi"
      }
    },
    {
      "cell_type": "code",
      "source": [
        "from sklearn.svm import SVC\n",
        "from sklearn.metrics import accuracy_score\n",
        "\n",
        "# SVM for RBM with recon data sampling\n",
        "svm1 = SVC(kernel=\"rbf\", C=2.0, gamma='scale')\n",
        "svm1.fit(hid_probs_train1, y_train)\n",
        "\n",
        "y_train_pred_1 = svm1.predict(hid_probs_train1)\n",
        "acc_tr_1 = accuracy_score(y_train, y_train_pred_1)\n",
        "print(\"Training accuracy (with reconstruction sampling)\", acc_tr_1)\n",
        "\n",
        "# SVM for RBM without recon data sampling\n",
        "svm2 = SVC(kernel=\"rbf\", C=2.0, gamma='scale')\n",
        "svm2.fit(hid_probs_train2, y_train)\n",
        "\n",
        "y_train_pred_2 = svm2.predict(hid_probs_train2)\n",
        "acc_tr_2 = accuracy_score(y_train, y_train_pred_2)\n",
        "print(\"Training accuracy (without reconstruction sampling)\", acc_tr_2)"
      ],
      "metadata": {
        "colab": {
          "base_uri": "https://localhost:8080/"
        },
        "id": "llJneG3gX8ve",
        "outputId": "6a214cd1-a9a5-4a67-e399-c8f77a014d60"
      },
      "execution_count": null,
      "outputs": [
        {
          "output_type": "stream",
          "name": "stdout",
          "text": [
            "Training accuracy (with reconstruction sampling) 0.8651666666666666\n",
            "Training accuracy (without reconstruction sampling) 0.8675\n"
          ]
        }
      ]
    },
    {
      "cell_type": "markdown",
      "source": [
        "Accuracy on training was not exceptional, although somewhat good. This could be caused by the possible loss of information for the input data provoked by the initial thresholding, or by not enough optimized RBM parameters.\n",
        "\n",
        "Difference in accuracy between sammpled and non-sampled reconstruction data is minimal, proving as explained in [1], that it does not change much the RBM behaviour."
      ],
      "metadata": {
        "id": "0LcM1IzIz6WP"
      }
    },
    {
      "cell_type": "markdown",
      "source": [
        "# Test"
      ],
      "metadata": {
        "id": "LIoPTUe9Ax4_"
      }
    },
    {
      "cell_type": "code",
      "source": [
        "hid_probs_test_1 = rbm1.predict(x_test) # RBM with recon data sampling\n",
        "hid_probs_test_2 = rbm2.predict(x_test) # RBM without recon data sampling\n",
        "\n",
        "# SVM for RBM with recon data sampling\n",
        "y_test_pred_1 = svm1.predict(hid_probs_test_1)\n",
        "acc_ts_1 = accuracy_score(y_test, y_test_pred_1)\n",
        "print(\"Test accuracy (with reconstruction sampling)\", acc_ts_1)\n",
        "\n",
        "# SVM for RBM without recon data sampling\n",
        "y_test_pred_2 = svm2.predict(hid_probs_test_2)\n",
        "acc_ts_2 = accuracy_score(y_test, y_test_pred_2)\n",
        "print(\"Test accuracy (without reconstruction sampling)\", acc_ts_2)"
      ],
      "metadata": {
        "colab": {
          "base_uri": "https://localhost:8080/"
        },
        "id": "oCktsKsr57_M",
        "outputId": "1decfe5b-b34e-4470-9757-bd219aa32e6c"
      },
      "execution_count": null,
      "outputs": [
        {
          "output_type": "stream",
          "name": "stdout",
          "text": [
            "Test accuracy (with reconstruction sampling) 0.8536\n",
            "Test accuracy (without reconstruction sampling) 0.8627\n"
          ]
        }
      ]
    },
    {
      "cell_type": "markdown",
      "source": [
        "The results of the test set closely adhere to the results on training, proving that the model does not fall into overfitting.\n",
        "A slight difference on test accuracy exists between the RBM with sampled reconstruction data and the one without, slightly in favour of the RBM trained without sampling over reconstructed data."
      ],
      "metadata": {
        "id": "sMaG76LX1TvO"
      }
    }
  ],
  "metadata": {
    "colab": {
      "provenance": [],
      "collapsed_sections": [],
      "authorship_tag": "ABX9TyN9E/08uv4Ss/l8c17Av9Hf",
      "include_colab_link": true
    },
    "kernelspec": {
      "display_name": "Python 3",
      "name": "python3"
    },
    "language_info": {
      "name": "python"
    }
  },
  "nbformat": 4,
  "nbformat_minor": 0
}